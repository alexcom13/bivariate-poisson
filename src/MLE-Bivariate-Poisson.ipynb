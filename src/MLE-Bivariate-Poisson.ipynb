{
 "cells": [
  {
   "cell_type": "markdown",
   "metadata": {},
   "source": [
    "# Maximum likelihood estimation of the Bivariate Poisson distribution"
   ]
  },
  {
   "cell_type": "code",
   "execution_count": 40,
   "metadata": {},
   "outputs": [],
   "source": [
    "import numpy as np\n",
    "import matplotlib.pyplot as plt\n",
    "import math\n",
    "import pandas as pd\n",
    "factorial = np.vectorize(math.factorial)\n",
    "# combination = lambda x,y: factorial(x)/(factorial(y)*factorial(x-y))"
   ]
  },
  {
   "cell_type": "markdown",
   "metadata": {},
   "source": [
    "## Example data"
   ]
  },
  {
   "cell_type": "code",
   "execution_count": 41,
   "metadata": {},
   "outputs": [],
   "source": [
    "X = np.random.randint(0,10,100)\n",
    "Y = np.random.randint(0,10,100)\n"
   ]
  },
  {
   "cell_type": "markdown",
   "metadata": {},
   "source": [
    "## Implementation"
   ]
  },
  {
   "cell_type": "markdown",
   "metadata": {},
   "source": [
    "The probabilty function is \n",
    "$$\n",
    "    p(x,y) = P(X = x, Y = y) = e^{-(\\lambda_1+\\lambda_2+\\lambda_3)} \\frac{\\lambda_1^x}{x!}\\frac{\\lambda_2^y}{y!} \\sum_{i = 0}^{min(x,y)}{\\binom xi \\binom yi i! \\left(\\frac{\\lambda_3}{\\lambda_1\\lambda_2}\\right)^i}\n",
    "$$\n",
    "\n",
    "Then \n",
    "$$\n",
    "    \\log(p(x, y) ) = -(\\lambda_1+\\lambda_2+\\lambda_3) + x \\log(\\frac{\\lambda_1}{x!}) +  y \\log(\\frac{\\lambda_2}{y!}) + \\log \\left( \\sum_{i = 0}^{min(x,y)}{\\binom xi \\binom yi i! \\left(\\frac{\\lambda_3}{\\lambda_1\\lambda_2}\\right)^i} \\right)\n",
    "$$"
   ]
  },
  {
   "cell_type": "code",
   "execution_count": 42,
   "metadata": {},
   "outputs": [],
   "source": [
    "def lp(x, y, l1, l2, l3):\n",
    "    \"\"\" Computes the log of probabilty function\"\"\"\n",
    "\n",
    "    suma = - l1 - l2  - l3 \n",
    "    suma += x * np.log(l1 / math.factorial(x))\n",
    "    suma += y * np.log(l2 / math.factorial(y))\n",
    "    z = min(x, y)\n",
    "    if(z != 0):\n",
    "        I = np.array(range(z)) # define I = [0,1,..,min(x,y)]\n",
    "        suma += np.log(((math.factorial(x)*math.factorial(y))/(factorial(x - I)*factorial(I)*factorial(y - I)) * np.exp(I*np.log(l3/l1*l2))).sum())\n",
    "    return suma       "
   ]
  },
  {
   "cell_type": "code",
   "execution_count": 43,
   "metadata": {},
   "outputs": [
    {
     "data": {
      "text/plain": [
       "array([  -6.97889075, -171.05982437,  -78.61177471, -119.51783503,\n",
       "       -111.47629726,  -67.12249258,  -90.51458322,  -59.40977205,\n",
       "        -40.42886251,  -90.23682322,   -7.47944154,  -35.41541534,\n",
       "         -4.30138771,   -4.30138771,  -26.6539794 ,  -18.11221532,\n",
       "         -4.30138771,  -90.51458322,   -9.67666612,   -7.47944154,\n",
       "         -3.09616569,  -24.76532838,  -26.6539794 ,  -97.63873749,\n",
       "        -86.98682815,  -78.79529607,  -90.51458322,   -6.97889075,\n",
       "        -97.63873749,   -9.67666612, -171.05982437,   -5.4       ,\n",
       "        -23.84439727,  -38.28383354,  -28.23884643,  -93.81042008,\n",
       "         -6.97889075,  -11.56020685,  -90.23682322,   -9.67666612,\n",
       "         -7.47944154,  -78.61177471,   -9.67666612,  -57.38584351,\n",
       "        -13.75743142,  -49.92838482, -102.99624366,   -7.47944154,\n",
       "       -150.85906806,  -60.17419365, -105.19346823,   -5.68768207,\n",
       "        -43.77689498, -116.9693587 ,  -67.12249258,  -42.62608708,\n",
       "       -114.42085896,  -85.20344844, -123.61782466,  -59.40977205,\n",
       "       -134.7910897 , -111.47629726,  -81.44792491,  -24.76532838,\n",
       "       -134.7910897 ,  -79.86763176,  -29.33745871,  -61.92731807,\n",
       "        -58.9886334 ,  -13.71776617,  -17.01360303, -107.82918522,\n",
       "        -49.92838482, -123.61782466,  -60.17419365,  -17.01360303,\n",
       "        -23.84439727,  -27.75259169, -171.05982437,  -18.11221532,\n",
       "       -120.42279635,  -11.56020685,   -4.30138771,  -39.53784901,\n",
       "       -120.42279635, -150.85906806,  -36.24201214, -171.05982437,\n",
       "        -57.38584351,  -61.92731807,   -6.69858878,   -7.47944154,\n",
       "        -84.28835752,  -90.23682322,   -5.59997649,  -23.84439727,\n",
       "        -93.81042008, -120.61644732,  -93.81042008,   -7.47944154])"
      ]
     },
     "execution_count": 43,
     "metadata": {},
     "output_type": "execute_result"
    }
   ],
   "source": [
    "arr = np.array([])\n",
    "\n",
    "for x,y in zip(X,Y):\n",
    "    # print(x,y)\n",
    "    arr = np.append(arr, lp(x,y,1,3,1.4))\n",
    "arr "
   ]
  },
  {
   "cell_type": "markdown",
   "metadata": {},
   "source": [
    "Given $(X_1,Y_2),\\dots,(X_n,Y_n)$ Bivariate Poisson random variables with parameters $(\\lambda_1,\\lambda_2, \\lambda_3)$ then the log likelihood function is \n",
    "\n",
    "$$\n",
    "    \\text{llf} = \\log(\\prod_{i=0}^{n}{p(x_{i},y_{i})}) = \\sum_{i= 0}^{n}{\\log(p(x_{i},y_{i}))} \n",
    "$$\n",
    "\n",
    "$$\n",
    "    = -n(\\lambda_1+\\lambda_2+\\lambda_3) + \\sum_{i=0}^{n}{x_i \\log \\left(\\frac{\\lambda_1}{{x_i}!} \\right)} + \\sum_{i=0}^{n}{y_i \\log \\left(\\frac{\\lambda_2}{{y_i}!} \\right)} + \\sum_{j=1}^{n}{\\log\\left( \\sum_{i = 0}^{min(x_j,y_j)}{\\binom {x_j}i \\binom {y_j}i i! \\left(\\frac{\\lambda_3}{\\lambda_1\\lambda_2}\\right)^i} \\right)}\n",
    "$$\n"
   ]
  },
  {
   "cell_type": "code",
   "execution_count": 49,
   "metadata": {},
   "outputs": [],
   "source": [
    "def llf(X,Y,l1,l2,l3):\n",
    "    lam = np.array([l3/(l1*l2)])\n",
    "    if X.shape[0] != Y.shape[0]: raise Exception(\"X and Y must have the same length\") \n",
    "    n = X.shape[0]\n",
    "    suma = - n * (l1 + l2 + l3)\n",
    "    suma += ( X * (np.log(l1) - np.log(factorial(X))) ).sum()\n",
    "    suma += ( Y * (np.log(l1) - np.log(factorial(Y))) ).sum()\n",
    "    for i in range(n):\n",
    "        z = min(X[i],Y[i])\n",
    "        if z == 0: continue\n",
    "        I = np.array(range(z))\n",
    "        suma += np.log((((factorial(X[i])*factorial(Y[i]))/(factorial(X[i] - I)*factorial(I)*factorial(Y[i] - I))) * np.power(lam,I)).sum())\n",
    "    return suma "
   ]
  },
  {
   "cell_type": "markdown",
   "metadata": {},
   "source": [
    "## Algorithm to $\\lambda_3$\n",
    "\n",
    "From [Kawamura 1984] we have that $\\lambda_1 + \\lambda_3 = \\hat{X}$ and $\\lambda_2 + \\lambda_3 = \\hat{Y}$ with $\\lambda_3 \\in{[0,\\min(\\hat{X},\\hat{Y})]}$ "
   ]
  },
  {
   "cell_type": "code",
   "execution_count": 56,
   "metadata": {},
   "outputs": [],
   "source": [
    "def optimaze_llf_l3(X,Y, iterations, size_step = 10):\n",
    "    x_hat = X.sum()/X.shape[0]\n",
    "    y_hat = Y.sum()/Y.shape[0]\n",
    "    interval = (0,min(x_hat,y_hat))\n",
    "    d = np.linspace(interval[0],interval[1],size_step)\n",
    "\n",
    "    print(interval)\n",
    "    for i in range(iterations):\n",
    "        lff_d = np.array([ llf(X,Y,X.sum()/X.shape[0]-l,Y.sum()/Y.shape[0]-l,l) for l in d[0:size_step-2]]) # [0,min(x_hat,y_hat))\n",
    "        print(\"llf values\", lff_d)\n",
    "        indexes = np.where(lff_d == lff_d.max()) # Miniminzg lff on D_i\n",
    "        print(\"Minimum values\", indexes)\n",
    "        index = indexes[0][0]\n",
    "        l3 = d[index]\n",
    "        if(index == 0 or index == 9): \n",
    "            if(index == 0): \n",
    "                interval = (d[index], d[index+1])\n",
    "            else: \n",
    "                interval = (d[index-1], d[index])\n",
    "        else: interval = (d[index - 1], d[index + 1])\n",
    "        print(\"D_{} = \".format(i), interval)\n",
    "        d = np.linspace(interval[0],interval[1],size_step)\n",
    "    \n",
    "    return l3"
   ]
  },
  {
   "cell_type": "code",
   "execution_count": 57,
   "metadata": {},
   "outputs": [
    {
     "name": "stdout",
     "output_type": "stream",
     "text": [
      "(0, 4.29)\n",
      "llf values [-6214.08939679 -6210.7020177  -6210.6064085  -6214.74473508\n",
      " -6224.79251191 -6243.50105543 -6275.31214747 -6327.17046033]\n",
      "Minimum values (array([2]),)\n",
      "D_0 =  (0.4766666666666667, 1.4300000000000002)\n",
      "llf values [-6210.7020177  -6210.37281752 -6210.21156742 -6210.2273416\n",
      " -6210.43068376 -6210.83368609 -6211.45009206 -6212.29542202]\n",
      "Minimum values (array([2]),)\n",
      "D_1 =  (0.5825925925925927, 0.7944444444444445)\n",
      "llf values [-6210.37281752 -6210.32217292 -6210.27991005 -6210.24612581\n",
      " -6210.22092057 -6210.20439826 -6210.19666633 -6210.19783584]\n",
      "Minimum values (array([6]),)\n",
      "D_2 =  (0.7002880658436215, 0.747366255144033)\n",
      "llf values [-6210.20439826 -6210.20191654 -6210.19987009 -6210.19826015\n",
      " -6210.19708792 -6210.19635463 -6210.19606153 -6210.19620985]\n",
      "Minimum values (array([6]),)\n",
      "D_3 =  (0.7264426154549612, 0.7369044352994971)\n",
      "llf values [-6210.19635463 -6210.19625141 -6210.19616994 -6210.19611024\n",
      " -6210.19607232 -6210.19605619 -6210.19606186 -6210.19608935]\n",
      "Minimum values (array([5]),)\n",
      "D_4 =  (0.7310923131636439, 0.7334171620179851)\n",
      "llf values [-6210.19607232 -6210.19606685 -6210.19606246 -6210.19605914\n",
      " -6210.1960569  -6210.19605574 -6210.19605565 -6210.19605664]\n",
      "Minimum values (array([6]),)\n",
      "D_5 =  (0.7323838958605001, 0.7329005289392426)\n",
      "llf values [-6210.19605574 -6210.19605563 -6210.19605557 -6210.19605556\n",
      " -6210.19605561 -6210.19605571 -6210.19605586 -6210.19605607]\n",
      "Minimum values (array([3]),)\n",
      "D_6 =  (0.7324987032113318, 0.7326135105621635)\n",
      "llf values [-6210.19605557 -6210.19605556 -6210.19605556 -6210.19605556\n",
      " -6210.19605556 -6210.19605556 -6210.19605557 -6210.19605558]\n",
      "Minimum values (array([3]),)\n",
      "D_7 =  (0.7325242159559611, 0.7325497287005903)\n",
      "llf values [-6210.19605556 -6210.19605556 -6210.19605556 -6210.19605556\n",
      " -6210.19605556 -6210.19605556 -6210.19605556 -6210.19605556]\n",
      "Minimum values (array([3]),)\n",
      "D_8 =  (0.7325298854547676, 0.732535554953574)\n",
      "llf values [-6210.19605556 -6210.19605556 -6210.19605556 -6210.19605556\n",
      " -6210.19605556 -6210.19605556 -6210.19605556 -6210.19605556]\n",
      "Minimum values (array([5, 6]),)\n",
      "D_9 =  (0.7325324052320149, 0.7325336651206386)\n"
     ]
    },
    {
     "data": {
      "text/plain": [
       "0.7325330351763267"
      ]
     },
     "execution_count": 57,
     "metadata": {},
     "output_type": "execute_result"
    }
   ],
   "source": [
    "optimaze_llf_l3(X,Y, iterations=10)"
   ]
  },
  {
   "cell_type": "markdown",
   "metadata": {},
   "source": [
    "# References\n",
    "\n",
    "\n",
    "Kawamura, Kazutomo: Direct calculation of maximum\n",
    "likelihood estimator for the bivariate Poisson distribution. In: Kodai Mathe-\n",
    "matical Journal 7 (1984), Nr. 2, S. 211 – 221. – URL https://doi.org/10.\n",
    "2996/kmj/1138036908"
   ]
  }
 ],
 "metadata": {
  "kernelspec": {
   "display_name": "Python 3",
   "language": "python",
   "name": "python3"
  },
  "language_info": {
   "codemirror_mode": {
    "name": "ipython",
    "version": 3
   },
   "file_extension": ".py",
   "mimetype": "text/x-python",
   "name": "python",
   "nbconvert_exporter": "python",
   "pygments_lexer": "ipython3",
   "version": "3.10.12"
  }
 },
 "nbformat": 4,
 "nbformat_minor": 2
}
