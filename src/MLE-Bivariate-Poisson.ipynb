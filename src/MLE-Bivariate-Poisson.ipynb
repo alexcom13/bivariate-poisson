{
 "cells": [
  {
   "cell_type": "markdown",
   "metadata": {},
   "source": [
    "# Maximum likelihood estimation of the Bivariate Poisson distribution"
   ]
  },
  {
   "cell_type": "code",
   "execution_count": 244,
   "metadata": {},
   "outputs": [],
   "source": [
    "import numpy as np\n",
    "import matplotlib.pyplot as plt\n",
    "import math\n",
    "import pandas as pd\n",
    "import collections.abc\n",
    "factorial = np.vectorize(math.factorial)\n",
    "combination = lambda x,y: factorial(x)/(factorial(y)*factorial(x-y))"
   ]
  },
  {
   "cell_type": "markdown",
   "metadata": {},
   "source": [
    "## Example data"
   ]
  },
  {
   "cell_type": "code",
   "execution_count": 245,
   "metadata": {},
   "outputs": [],
   "source": [
    "X = np.random.randint(0,10,100)\n",
    "Y = np.random.randint(0,10,100)"
   ]
  },
  {
   "cell_type": "markdown",
   "metadata": {},
   "source": [
    "## Implementation"
   ]
  },
  {
   "cell_type": "markdown",
   "metadata": {},
   "source": [
    "The probabilty function of $(X,Y) \\sim BP(\\lambda_1, \\lambda_2, \\lambda_3)$  is\n",
    "$$\n",
    "    p(x,y) = P(X = x, Y = y) = e^{-(\\lambda_1+\\lambda_2+\\lambda_3)} \\frac{\\lambda_1^x}{x!}\\frac{\\lambda_2^y}{y!} \\sum_{i = 0}^{min(x,y)}{\\binom xi \\binom yi i! \\left(\\frac{\\lambda_3}{\\lambda_1\\lambda_2}\\right)^i}\n",
    "$$\n",
    "\n",
    "Then the log of the probabilty function is \n",
    "$$\n",
    "    \\log(p(x, y) ) = -(\\lambda_1+\\lambda_2+\\lambda_3) + x \\log({\\lambda_1}) - \\log(x!) +  y \\log(\\lambda_2) - \\log(y!) + \\log \\left( \\sum_{i = 0}^{min(x,y)}{\\binom xi \\binom yi i! \\left(\\frac{\\lambda_3}{\\lambda_1\\lambda_2}\\right)^i} \\right)\n",
    "$$"
   ]
  },
  {
   "cell_type": "code",
   "execution_count": 246,
   "metadata": {},
   "outputs": [],
   "source": [
    "def dbp(x, y, l1, l2, l3, logged = True):\n",
    "    \"\"\" Computes the density function\"\"\"\n",
    "    n = 0\n",
    "    if isinstance(x, (collections.abc.Sequence, np.ndarray)):\n",
    "        if(x.shape[0] == y.shape[0]): n = len(x)\n",
    "    suma = - (l1 + l2 + l3)\n",
    "    suma += x* np.log(l1) - np.log(factorial(x))\n",
    "    suma += y* np.log(l2) - np.log(factorial(y))\n",
    "    sumas = np.array([])\n",
    "    for i in range(n):\n",
    "        z = min(x[i], y[i])\n",
    "        if(z != 0):\n",
    "            I = np.array(range(z+1)) # define I = [0,1,..,min(x,y)]\n",
    "            sumas = np.append(sumas, np.log( (combination(x[i],I) * combination(y[i],I)*factorial(I)*np.power(l3/(l2*l1),I)).sum()))\n",
    "        else: sumas = np.append(sumas, [0])\n",
    "    if(n == 0): \n",
    "        I = np.array(range(min(x,y)+1))\n",
    "        suma += np.log( (combination(x,I) * combination(y,I)*factorial(I)*np.power(l3/(l2*l1),I)).sum())\n",
    "    else: suma += sumas\n",
    "    return suma if logged else np.exp(suma)"
   ]
  },
  {
   "cell_type": "code",
   "execution_count": 247,
   "metadata": {},
   "outputs": [
    {
     "data": {
      "text/plain": [
       "array([ -5.58337895,  -3.81650733,  -4.61093171,  -6.        ,\n",
       "        -3.33736049,  -7.30527533,  -9.07412291, -18.80182748,\n",
       "        -4.70172763,  -3.75771551,  -4.6533709 ,  -4.70172763,\n",
       "        -3.33736049,  -9.17805383,  -5.50582009,  -8.42036813,\n",
       "        -3.75771551,  -4.03050768,  -5.09584135,  -3.13383872,\n",
       "        -9.88935421,  -7.30527533,  -3.74374975,  -4.70172763,\n",
       "        -4.53268661,  -3.69187473, -11.38966715,  -3.90253405,\n",
       "        -6.        ,  -4.88142074,  -3.33736049,  -7.79175947,\n",
       "        -5.05791261, -12.57925121,  -3.3336724 ,  -6.40546511,\n",
       "        -5.18168968,  -7.30527533,  -5.90201633,  -3.94161187,\n",
       "        -3.24846469,  -4.39056209,  -3.92055846,  -6.2677151 ,\n",
       "       -16.6046029 ,  -6.        ,  -7.47431635,  -4.61370564,\n",
       "        -6.        ,  -5.09584135,  -3.55765296,  -6.35312871,\n",
       "        -3.75771551, -10.80506142,  -3.75771551,  -5.9834707 ,\n",
       "        -9.07412291,  -5.3938642 ,  -3.13383872,  -2.99872755,\n",
       "        -5.0454886 ,  -7.9542784 , -13.34650636, -12.57925121,\n",
       "        -5.9834707 ,  -5.93500871,  -7.23078406,  -7.30527533,\n",
       "        -7.42595962,  -3.33551475,  -4.27368717,  -9.17805383,\n",
       "        -5.0454886 ,  -2.99872755,  -4.70172763,  -5.50582009,\n",
       "        -6.90956674,  -9.58351894,  -4.6533709 , -15.43453165,\n",
       "        -7.42595962,  -4.50965451,  -4.45955496,  -4.31930171,\n",
       "        -3.69187473,  -9.6731311 ,  -5.71231793,  -3.69187473,\n",
       "        -5.50582009,  -8.97155599,  -4.03050768,  -5.98197559,\n",
       "        -4.6533709 ,  -4.70172763,  -6.7352928 ,  -4.71996677,\n",
       "        -3.69187473,  -4.7960272 ,  -7.23078406,  -4.88142074])"
      ]
     },
     "execution_count": 247,
     "metadata": {},
     "output_type": "execute_result"
    }
   ],
   "source": [
    "dbp(X,Y,1,2,3)"
   ]
  },
  {
   "cell_type": "markdown",
   "metadata": {},
   "source": [
    "Given $(X_1,Y_2),\\dots,(X_n,Y_n)$ Bivariate Poisson random variables with parameters $(\\lambda_1,\\lambda_2, \\lambda_3)$ then the log likelihood function is \n",
    "\n",
    "$$\n",
    "    \\text{llf} = \\log(\\prod_{i=0}^{n}{p(x_{i},y_{i})}) = \\sum_{i= 0}^{n}{\\log(p(x_{i},y_{i}))} \n",
    "$$\n",
    "\n",
    "$$\n",
    "    = -n(\\lambda_1+\\lambda_2+\\lambda_3) + \\sum_{i=0}^{n}{\\left( x_i \\log(\\lambda_1) - \\log(x_{i}!) \\right)} + \\sum_{i=0}^{n}{\\left( y_i \\log(\\lambda_2) - \\log(y_{i}!) \\right)} + \\sum_{j=1}^{n}{\\log\\left( \\sum_{i = 0}^{min(x_j,y_j)}{\\binom {x_j}i \\binom {y_j}i i! \\left(\\frac{\\lambda_3}{\\lambda_1\\lambda_2}\\right)^i} \\right)}\n",
    "$$\n"
   ]
  },
  {
   "cell_type": "code",
   "execution_count": 248,
   "metadata": {},
   "outputs": [],
   "source": [
    "def llf(X,Y,l1,l2,l3):\n",
    "    \"\"\" Computes the log likelihood function of BP(l1,l2,l3)\"\"\"\n",
    "    \n",
    "    if X.shape[0] != Y.shape[0]: raise Exception(\"X and Y must have the same length\") \n",
    "    n = X.shape[0]\n",
    "    suma = - n * (l1 + l2 + l3)\n",
    "    suma += ( X * np.log(l1) - np.log(factorial(X)) ).sum()\n",
    "    suma += ( Y * np.log(l2) - np.log(factorial(Y)) ).sum()\n",
    "    for i in range(n):\n",
    "        z = min(X[i],Y[i])\n",
    "        if z == 0: continue\n",
    "        I = np.array(range(z+1))\n",
    "        suma += np.log((((factorial(X[i])*factorial(Y[i]))/(factorial(X[i] - I)*factorial(I)*factorial(Y[i] - I))) * np.power(l3/(l1*l2),I)).sum())\n",
    "    return suma "
   ]
  },
  {
   "cell_type": "markdown",
   "metadata": {},
   "source": [
    "## Algorithm to get $\\hat{\\lambda}_1$, $\\hat{\\lambda}_2$, $\\hat{\\lambda}_3$ of ML\n",
    "\n",
    "From [Kawamura 1984] we have that $\\hat{\\lambda}_1 + \\hat{\\lambda}_3 = \\hat{X}$ and $\\hat{\\lambda}_2 + \\hat{\\lambda}_3 = \\hat{Y}$ with $\\hat{\\lambda}_3 \\in{[0,\\min(\\hat{X},\\hat{Y})]}$ "
   ]
  },
  {
   "cell_type": "code",
   "execution_count": 249,
   "metadata": {},
   "outputs": [],
   "source": [
    "def max_llf_l3(X,Y, iterations, size_step = 10):\n",
    "    \"\"\" Algorthm to find the l3 that maximize the log likelihood function of BP(l1,l2,l3)\"\"\"\n",
    "\n",
    "    x_hat = X.sum()/X.shape[0]\n",
    "    y_hat = Y.sum()/Y.shape[0]\n",
    "    interval = (0,min(x_hat,y_hat))\n",
    "    d = np.linspace(interval[0],interval[1],size_step)\n",
    "\n",
    "    print(interval)\n",
    "    for i in range(iterations):\n",
    "        lff_d = np.array([ llf(X,Y,X.sum()/X.shape[0]-l,Y.sum()/Y.shape[0]-l,l) for l in d[0:size_step-2]]) # [0,min(x_hat,y_hat))\n",
    "        print(\"llf values\", lff_d)\n",
    "        indexes = np.where(lff_d == lff_d.max()) # Maximizing lff on D_i\n",
    "        print(\"Minimum values\", indexes)\n",
    "        index = indexes[0][0]\n",
    "        l3 = d[index]\n",
    "        if(index == 0 or index == 9): \n",
    "            if(index == 0): \n",
    "                interval = (d[index], d[index+1])\n",
    "            else: \n",
    "                interval = (d[index-1], d[index])\n",
    "        else: interval = (d[index - 1], d[index + 1])\n",
    "        print(\"D_{} = \".format(i), interval)\n",
    "        d = np.linspace(interval[0],interval[1],size_step)\n",
    "    \n",
    "    return l3"
   ]
  },
  {
   "cell_type": "code",
   "execution_count": 250,
   "metadata": {},
   "outputs": [
    {
     "name": "stdout",
     "output_type": "stream",
     "text": [
      "(0, 4.41)\n",
      "llf values [-502.4180624  -503.01659117 -506.38240759 -513.26256338 -525.12031237\n",
      " -544.70165066 -577.51552272 -636.36454388]\n",
      "Minimum values (array([0]),)\n",
      "D_0 =  (0.0, 0.49)\n"
     ]
    },
    {
     "name": "stdout",
     "output_type": "stream",
     "text": [
      "llf values [-502.4180624  -502.35894573 -502.33085147 -502.33381205 -502.36795201\n",
      " -502.43348282 -502.53069888 -502.65997461]\n",
      "Minimum values (array([2]),)\n",
      "D_1 =  (0.05444444444444444, 0.16333333333333333)\n",
      "llf values [-502.35894573 -502.35002196 -502.34262973 -502.33676924 -502.33244089\n",
      " -502.32964534 -502.32838348 -502.32865639]\n",
      "Minimum values (array([6]),)\n",
      "D_2 =  (0.11493827160493827, 0.1391358024691358)\n",
      "llf values [-502.32964534 -502.32923235 -502.32889511 -502.32863363 -502.32844792\n",
      " -502.32833799 -502.32830386 -502.32834554]\n",
      "Minimum values (array([6]),)\n",
      "D_3 =  (0.12838134430727022, 0.13375857338820302)\n",
      "llf values [-502.32833799 -502.32832385 -502.32831346 -502.32830681 -502.32830391\n",
      " -502.32830475 -502.32830933 -502.32831765]\n",
      "Minimum values (array([4]),)\n",
      "D_4 =  (0.1301737540009145, 0.13136869379667732)\n",
      "llf values [-502.32830681 -502.32830584 -502.32830506 -502.32830446 -502.32830404\n",
      " -502.32830381 -502.32830377 -502.32830391]\n",
      "Minimum values (array([6]),)\n",
      "D_5 =  (0.13083760944300496, 0.13110315161984112)\n",
      "llf values [-502.32830381 -502.32830379 -502.32830377 -502.32830376 -502.32830377\n",
      " -502.32830378 -502.3283038  -502.32830383]\n",
      "Minimum values (array([3]),)\n",
      "D_6 =  (0.13089661881563522, 0.13095562818826548)\n",
      "llf values [-502.32830377 -502.32830377 -502.32830377 -502.32830377 -502.32830376\n",
      " -502.32830376 -502.32830376 -502.32830376]\n",
      "Minimum values (array([6]),)\n",
      "D_7 =  (0.1309294018004298, 0.13094251499434764)\n",
      "llf values [-502.32830376 -502.32830376 -502.32830376 -502.32830376 -502.32830376\n",
      " -502.32830376 -502.32830376 -502.32830376]\n",
      "Minimum values (array([5]),)\n",
      "D_8 =  (0.13093522988661552, 0.13093814392970837)\n",
      "llf values [-502.32830376 -502.32830376 -502.32830376 -502.32830376 -502.32830376\n",
      " -502.32830376 -502.32830376 -502.32830376]\n",
      "Minimum values (array([3]),)\n",
      "D_9 =  (0.13093587745174726, 0.130936525016879)\n"
     ]
    }
   ],
   "source": [
    "lambda3 = max_llf_l3(X,Y, iterations=10)"
   ]
  },
  {
   "cell_type": "code",
   "execution_count": 251,
   "metadata": {},
   "outputs": [
    {
     "data": {
      "text/plain": [
       "(4.439063798765687, 5.869063798765687, 0.13093620123431313)"
      ]
     },
     "execution_count": 251,
     "metadata": {},
     "output_type": "execute_result"
    }
   ],
   "source": [
    "# The paramters of MLE are \n",
    "lambda1 = np.mean(X) - lambda3\n",
    "lambda2 = np.mean(y) - lambda3\n",
    "lambda1, lambda2, lambda3"
   ]
  },
  {
   "cell_type": "markdown",
   "metadata": {},
   "source": [
    "# References\n",
    "\n",
    "\n",
    "Kawamura, Kazutomo: Direct calculation of maximum\n",
    "likelihood estimator for the bivariate Poisson distribution. In: Kodai Mathe-\n",
    "matical Journal 7 (1984), Nr. 2, S. 211 – 221. – URL https://doi.org/10.\n",
    "2996/kmj/1138036908"
   ]
  }
 ],
 "metadata": {
  "kernelspec": {
   "display_name": "Python 3",
   "language": "python",
   "name": "python3"
  },
  "language_info": {
   "codemirror_mode": {
    "name": "ipython",
    "version": 3
   },
   "file_extension": ".py",
   "mimetype": "text/x-python",
   "name": "python",
   "nbconvert_exporter": "python",
   "pygments_lexer": "ipython3",
   "version": "3.10.12"
  }
 },
 "nbformat": 4,
 "nbformat_minor": 2
}
